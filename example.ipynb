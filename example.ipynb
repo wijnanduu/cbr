{
 "cells": [
  {
   "cell_type": "code",
   "execution_count": 1,
   "metadata": {},
   "outputs": [
    {
     "name": "stdout",
     "output_type": "stream",
     "text": [
      "\n",
      "Printing dimension orders.\n",
      "cap-shape: sunken (-0.1618) < convex (-0.0309) < flat (-0.0098) < knobbed (0.0384) < bell (0.0728) < conical (0.0897)\n",
      "cap-surface: fibrous (-0.3479) < scaly (0.029) < grooves (0.1082) < smooth (0.3026)\n",
      "cap-color: brown (-0.2521) < cinnamon (-0.2323) < red (-0.0953) < green (-0.074) < purple (-0.074) < gray (0.0084) < yellow (0.026) < pink (0.1656) < buff (0.2169) < white (0.3258)\n",
      "bruises: no (-0.0573) < bruises (0.0573)\n",
      "odor: none (-1.7183) < anise (-0.8546) < almond (-0.8546) < musty (0.0944) < fishy (0.4609) < spicy (0.4609) < foul (1.2576) < pungent (1.2679) < creosote (1.3268)\n",
      "gill-attachment: attached (-0.129) < free (0.129)\n",
      "gill-spacing: crowded (-0.5478) < close (0.5478)\n",
      "gill-size: broad (-0.8249) < narrow (0.8249)\n",
      "gill-color: brown (-0.278) < red (-0.1817) < purple (-0.1744) < pink (-0.1491) < black (-0.1471) < white (-0.1207) < orange (-0.0817) < gray (-0.0814) < yellow (-0.0557) < green (0.1049) < chocolate (0.1397) < buff (0.6793)\n",
      "stalk-shape: tapering (-0.0346) < enlarging (0.0346)\n",
      "stalk-root: rooted (-0.5929) < club (-0.4818) < equal (-0.2854) < bulbous (0.307) < missing (0.3409)\n",
      "stalk-surface-above-ring: smooth (-0.4358) < fibrous (-0.1803) < scaly (-0.1381) < silky (0.5771)\n",
      "stalk-surface-below-ring: smooth (-0.337) < fibrous (-0.1977) < silky (0.2492) < scaly (0.5657)\n",
      "stalk-color-above-ring: gray (-0.2556) < orange (-0.1692) < red (-0.159) < white (0.0181) < pink (0.0406) < yellow (0.0809) < cinnamon (0.0944) < brown (0.1502) < buff (0.175)\n",
      "stalk-color-below-ring: gray (-0.2357) < brown (-0.1889) < orange (-0.1692) < red (-0.1413) < pink (0.0518) < cinnamon (0.0944) < buff (0.1169) < yellow (0.1498) < white (0.1704)\n",
      "veil-color: orange (-0.119) < brown (-0.119) < yellow (0.0809) < white (0.1495)\n",
      "ring-number: two (-0.5993) < none (0.0944) < one (0.5601)\n",
      "ring-type: flaring (-0.6848) < pendant (-0.2421) < evanescent (0.0125) < none (0.0944) < large (0.4405)\n",
      "spore-print-color: brown (-0.8514) < black (-0.7801) < purple (-0.2871) < yellow (-0.0963) < orange (-0.0963) < buff (-0.0963) < white (0.3577) < chocolate (1.1524) < green (1.2033)\n",
      "population: solitary (-0.3448) < numerous (-0.2499) < abundant (-0.0865) < several (0.0392) < scattered (0.0899) < clustered (0.8041)\n",
      "habitat: waste (-0.6226) < woods (-0.1031) < meadows (0.0249) < leaves (0.0429) < urban (0.0803) < paths (0.1182) < grasses (0.1573)\n",
      "Computing the forcing relation on cases.\n"
     ]
    },
    {
     "name": "stderr",
     "output_type": "stream",
     "text": [
      "100%|██████████| 300/300 [00:00<00:00, 2601.34it/s]\n"
     ]
    },
    {
     "name": "stdout",
     "output_type": "stream",
     "text": [
      "The consistency is 300 / 300 = 100.0%.\n",
      "Of the 147 cases with label 0 there are 0 inconsistent ones.\n",
      "Of the 153 cases with label 1 there are 0 inconsistent ones.\n",
      "Computing best citability information.\n"
     ]
    },
    {
     "name": "stderr",
     "output_type": "stream",
     "text": [
      "100%|██████████| 300/300 [00:00<00:00, 526.58it/s]"
     ]
    },
    {
     "name": "stdout",
     "output_type": "stream",
     "text": [
      "[PR] Mean and std. of best citability is 14.8 ± 17.6.\n",
      "Top forcing landmark with outcome 0:\n",
      "--------------------------------------\n",
      "d                         c[d].value\n",
      "------------------------  ------------\n",
      "cap-shape                 convex\n",
      "cap-surface               scaly\n",
      "cap-color                 red\n",
      "bruises                   bruises\n",
      "odor                      none\n",
      "gill-attachment           free\n",
      "gill-spacing              close\n",
      "gill-size                 broad\n",
      "gill-color                pink\n",
      "stalk-shape               tapering\n",
      "stalk-root                bulbous\n",
      "stalk-surface-above-ring  smooth\n",
      "stalk-surface-below-ring  smooth\n",
      "stalk-color-above-ring    pink\n",
      "stalk-color-below-ring    white\n",
      "veil-color                white\n",
      "ring-number               one\n",
      "ring-type                 pendant\n",
      "spore-print-color         black\n",
      "population                several\n",
      "habitat                   woods\n",
      "--------------------------------------\n",
      "Outcome: 0\n",
      "--------------------------------------\n",
      "Top forcing landmark with outcome 1:\n",
      "--------------------------------------\n",
      "d                         c[d].value\n",
      "------------------------  ------------\n",
      "cap-shape                 flat\n",
      "cap-surface               scaly\n",
      "cap-color                 red\n",
      "bruises                   no\n",
      "odor                      fishy\n",
      "gill-attachment           free\n",
      "gill-spacing              close\n",
      "gill-size                 narrow\n",
      "gill-color                buff\n",
      "stalk-shape               tapering\n",
      "stalk-root                missing\n",
      "stalk-surface-above-ring  smooth\n",
      "stalk-surface-below-ring  smooth\n",
      "stalk-color-above-ring    white\n",
      "stalk-color-below-ring    pink\n",
      "veil-color                white\n",
      "ring-number               one\n",
      "ring-type                 evanescent\n",
      "spore-print-color         white\n",
      "population                several\n",
      "habitat                   woods\n",
      "--------------------------------------\n",
      "Outcome: 1\n",
      "--------------------------------------\n",
      "\n",
      "Number of landmarks for outcome 0: 63\n",
      "Number of landmarks for outcome 1: 57\n",
      "\n",
      "Number of ordinary (aka trivial) cases for either class:\n",
      "For outcome 0: 147 - 63 = 84\n",
      "For outcome 1: 153 - 57 = 96\n",
      "Removals to obtain cons.: 0/300 = 0.0%\n"
     ]
    },
    {
     "name": "stderr",
     "output_type": "stream",
     "text": [
      "\n"
     ]
    }
   ],
   "source": [
    "from CBR.casebase import *\n",
    "\n",
    "small_sets = False\n",
    "size = 300 if small_sets else -1,\n",
    "\n",
    "# A link to the (processed) csv file. \n",
    "# Feel free to try some different values. \n",
    "csv = \"data/mushrooms.csv\"\n",
    "# csv = \"data/admission.csv\"\n",
    "# csv = \"data/tort.csv\"\n",
    "# csv = \"data/welfare.csv\"\n",
    "\n",
    "# Load the case base with logistic regression orders.\n",
    "CB = casebase(\n",
    "    csv,\n",
    "    verb=True, # The verbose mode prints the dimension order information. \n",
    "    method='logreg',\n",
    "    size=size # Truncates the size of the resulting case base to 'size', \n",
    "              # or uses the full size of the csv if size == -1. \n",
    "    )\n",
    "\n",
    "# 'analyze' is a conenience functions that bundles the other analysis functions,\n",
    "# check the casebase.py file to see (or change) what it does.\n",
    "CB.analyze()"
   ]
  },
  {
   "cell_type": "code",
   "execution_count": 14,
   "metadata": {},
   "outputs": [
    {
     "name": "stdout",
     "output_type": "stream",
     "text": [
      "Dimension                         a   R   b           F\n",
      "------------------------  ---------  ---  ---------  ---\n",
      "cap-shape                    convex   <   bell\n",
      "cap-surface                   scaly   =   scaly\n",
      "cap-color                    yellow   <   white\n",
      "bruises                          no   <   bruises\n",
      "odor                           foul   >   almond      X\n",
      "gill-attachment                free   =   free\n",
      "gill-spacing                  close   =   close\n",
      "gill-size                     broad   =   broad\n",
      "gill-color                     gray   =   gray\n",
      "stalk-shape               enlarging   =   enlarging\n",
      "stalk-root                  bulbous   >   club        X\n",
      "stalk-surface-above-ring      silky   >   smooth      X\n",
      "stalk-surface-below-ring      silky   >   smooth      X\n",
      "stalk-color-above-ring         buff   >   white       X\n",
      "stalk-color-below-ring        brown   <   white\n",
      "veil-color                    white   =   white\n",
      "ring-number                     one   =   one\n",
      "ring-type                     large   >   pendant     X\n",
      "spore-print-color         chocolate   >   black       X\n",
      "population                  several   <   scattered\n",
      "habitat                       paths   >   meadows     X\n",
      "Label                             1       0\n",
      "['odor', 'stalk-root', 'stalk-surface-above-ring', 'stalk-surface-below-ring', 'stalk-color-above-ring', 'ring-type', 'spore-print-color', 'habitat']\n"
     ]
    }
   ],
   "source": [
    "# Load the first two cases in the case base in variables a and b. \n",
    "a = CB[1]\n",
    "b = CB[7]\n",
    "\n",
    "# Print a comparison between the cases a and b.\n",
    "# This shows for each dimension d the values a(d) and b(d),\n",
    "# the relation between them (so a(d) < b(d), or a(d) > b(d), etc).\n",
    "CB.compare(a, b)\n",
    "\n",
    "# Dimensions on which b is not better than a are called 'relevant differences.\n",
    "# These can be computer with the .diff function of cases.\n",
    "# Note that these are also indicated by the 'compare' function.\n",
    "relevant_differences = a.diff(b)\n",
    "print(list(relevant_differences))"
   ]
  },
  {
   "cell_type": "code",
   "execution_count": 18,
   "metadata": {},
   "outputs": [
    {
     "name": "stdout",
     "output_type": "stream",
     "text": [
      "The outcome of the input case a was forced by a case b in the case base:\n",
      "Dimension                        a   R   b          F\n",
      "------------------------  --------  ---  --------  ---\n",
      "cap-shape                   convex   =   convex\n",
      "cap-surface                fibrous   =   fibrous\n",
      "cap-color                    brown   =   brown\n",
      "bruises                    bruises   =   bruises\n",
      "odor                          none   =   none\n",
      "gill-attachment               free   =   free\n",
      "gill-spacing                 close   =   close\n",
      "gill-size                    broad   =   broad\n",
      "gill-color                  purple   >   brown\n",
      "stalk-shape               tapering   =   tapering\n",
      "stalk-root                 bulbous   =   bulbous\n",
      "stalk-surface-above-ring    smooth   =   smooth\n",
      "stalk-surface-below-ring    smooth   =   smooth\n",
      "stalk-color-above-ring        pink   =   pink\n",
      "stalk-color-below-ring       white   >   pink\n",
      "veil-color                   white   =   white\n",
      "ring-number                    one   =   one\n",
      "ring-type                  pendant   =   pendant\n",
      "spore-print-color            black   =   black\n",
      "population                 several   >   solitary\n",
      "habitat                      woods   =   woods\n",
      "Label                            0       0\n"
     ]
    }
   ],
   "source": [
    "# As we know, if c has outcome s then c forces the outcome of d for s iff D(c, d) = {}. \n",
    "# This means we can use the .diff function to check whether a CB forces the outcome of a case.\n",
    "a = CB[3] # change to CB[0] for an example of a case that was not forced. \n",
    "force = False\n",
    "for b in CB:\n",
    "    if not a == b:\n",
    "        if list(b.diff(a)) == []:\n",
    "            force = True\n",
    "            print(\"The outcome of the input case a was forced by a case b in the case base:\")\n",
    "            CB.compare(b, a)\n",
    "            break\n",
    "\n",
    "if not force:\n",
    "    print(\"The outcome of case a was not forced by CB.\")"
   ]
  }
 ],
 "metadata": {
  "kernelspec": {
   "display_name": "sat",
   "language": "python",
   "name": "python3"
  },
  "language_info": {
   "codemirror_mode": {
    "name": "ipython",
    "version": 3
   },
   "file_extension": ".py",
   "mimetype": "text/x-python",
   "name": "python",
   "nbconvert_exporter": "python",
   "pygments_lexer": "ipython3",
   "version": "3.9.15"
  },
  "orig_nbformat": 4,
  "vscode": {
   "interpreter": {
    "hash": "068e3009dfa64c1a6fa42da4ad82f467b0844a8a0e6fa977c7f6dfa35a691984"
   }
  }
 },
 "nbformat": 4,
 "nbformat_minor": 2
}
