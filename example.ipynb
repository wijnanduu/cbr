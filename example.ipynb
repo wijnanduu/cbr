{
 "cells": [
  {
   "cell_type": "code",
   "execution_count": null,
   "metadata": {},
   "outputs": [],
   "source": [
    "from CBR.casebase import *\n",
    "\n",
    "small_sets = False\n",
    "size = 300 if small_sets else -1\n",
    "\n",
    "# A link to the (processed) csv file. \n",
    "# Feel free to try some different values. \n",
    "# csv = \"data/mushrooms.csv\"\n",
    "csv = \"data/admission.csv\"\n",
    "# csv = \"data/tort.csv\"\n",
    "# csv = \"data/welfare.csv\"\n",
    "\n",
    "# Load the case base with logistic regression orders.\n",
    "CB = casebase(\n",
    "    csv,\n",
    "    verb=True, # The verbose mode prints the dimension order information. \n",
    "    method='logreg',\n",
    "    size=size, # Truncates the size of the resulting case base to 'size', \n",
    "               # or uses the full size of the csv if size == -1. \n",
    "    shuffle=True,\n",
    "    )\n",
    "\n",
    "# 'analyze' is a conenience functions that bundles the other analysis functions,\n",
    "# check the casebase.py file to see (or change) what it does.\n",
    "CB.analyze()"
   ]
  },
  {
   "cell_type": "code",
   "execution_count": null,
   "metadata": {},
   "outputs": [],
   "source": [
    "# Load the first two cases in the case base in variables a and b. \n",
    "a = CB[1]\n",
    "b = CB[7]\n",
    "\n",
    "# Print a comparison between the cases a and b.\n",
    "# This shows for each dimension d the values a(d) and b(d),\n",
    "# the relation between them (so a(d) < b(d), or a(d) > b(d), etc).\n",
    "CB.compare(a, b)\n",
    "\n",
    "# Dimensions on which b is not better than a are called 'relevant differences.\n",
    "# These can be computer with the .diff function of cases.\n",
    "# Note that these are also indicated by the 'compare' function.\n",
    "relevant_differences = a.diff(b)\n",
    "print(list(relevant_differences))"
   ]
  },
  {
   "cell_type": "code",
   "execution_count": null,
   "metadata": {},
   "outputs": [],
   "source": [
    "# As we know, if c has outcome s then c forces the outcome of d for s iff D(c, d) = {}. \n",
    "# This means we can use the .diff function to check whether a CB forces the outcome of a case.\n",
    "a = CB[3] # change to CB[0] for an example of a case that was not forced. \n",
    "force = False\n",
    "for b in CB:\n",
    "    if not a == b:\n",
    "        if list(b.diff(a)) == []:\n",
    "            force = True\n",
    "            print(\"The outcome of the input case a was forced by a case b in the case base:\")\n",
    "            CB.compare(b, a)\n",
    "            break\n",
    "\n",
    "if not force:\n",
    "    print(\"The outcome of case a was not forced by CB.\")"
   ]
  },
  {
   "cell_type": "code",
   "execution_count": null,
   "metadata": {},
   "outputs": [],
   "source": [
    "# Compute the size of the case base, and make an ~80% split. \n",
    "CB_size = len(list(CB.inds))\n",
    "split = CB_size - (CB_size // 5)\n",
    "CB_train = CB[:split]\n",
    "CB_test = CB[split:]\n",
    "print(f\"Total size of CB: {CB_size}\")\n",
    "print(f\"Taking first {split} for train, and {CB_size - split} for test.\")\n",
    "\n",
    "# Compute whether the first case of the test split is forced by the train split. \n",
    "a = CB_train[0]\n",
    "for b in CB_train:\n",
    "    if not a == b:\n",
    "        if list(b.diff(a)) == []:\n",
    "            force = True\n",
    "            print(\"The outcome of the input case a was forced by a case b in the training case base:\")\n",
    "            CB.compare(b, a)\n",
    "            # De 'a' en 'b' zijn hier omgedraaid t.o.v. de output, beetje onhandig maar goed... \n",
    "            break"
   ]
  }
 ],
 "metadata": {
  "kernelspec": {
   "display_name": "sat",
   "language": "python",
   "name": "python3"
  },
  "language_info": {
   "codemirror_mode": {
    "name": "ipython",
    "version": 3
   },
   "file_extension": ".py",
   "mimetype": "text/x-python",
   "name": "python",
   "nbconvert_exporter": "python",
   "pygments_lexer": "ipython3",
   "version": "3.9.15 | packaged by conda-forge | (main, Nov 22 2022, 08:48:25) \n[Clang 14.0.6 ]"
  },
  "orig_nbformat": 4,
  "vscode": {
   "interpreter": {
    "hash": "068e3009dfa64c1a6fa42da4ad82f467b0844a8a0e6fa977c7f6dfa35a691984"
   }
  }
 },
 "nbformat": 4,
 "nbformat_minor": 2
}
