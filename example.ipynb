{
 "cells": [
  {
   "cell_type": "code",
   "execution_count": 4,
   "metadata": {},
   "outputs": [
    {
     "name": "stdout",
     "output_type": "stream",
     "text": [
      "\n",
      "Printing dimension orders.\n",
      "GRE Score: Ascending (0.47)\n",
      "TOEFL Score: Ascending (0.61)\n",
      "University Rating: Descending (-0.15)\n",
      "SOP: Descending (-0.36)\n",
      "LOR : Ascending (0.74)\n",
      "CGPA: Ascending (1.77)\n",
      "Research: Ascending (0.02)\n",
      "Computing the forcing relation on cases.\n"
     ]
    },
    {
     "name": "stderr",
     "output_type": "stream",
     "text": [
      "100%|██████████| 500/500 [00:00<00:00, 2241.23it/s]"
     ]
    },
    {
     "name": "stdout",
     "output_type": "stream",
     "text": [
      "The consistency is 456 / 500 = 91.2%.\n",
      "Of the 39 cases with label 0 there are 8 inconsistent ones.\n",
      "Of the 461 cases with label 1 there are 36 inconsistent ones.\n",
      "Top forcing landmark with outcome 0:\n",
      "-------------------------------\n",
      "d                  c[d].value\n",
      "-----------------  ------------\n",
      "GRE Score          316\n",
      "TOEFL Score        105\n",
      "University Rating  2\n",
      "SOP                2.5\n",
      "LOR                2.5\n",
      "CGPA               8.2\n",
      "Research           1\n",
      "-------------------------------\n",
      "Outcome: 0.0\n",
      "-------------------------------\n",
      "Top forcing landmark with outcome 1:\n",
      "-------------------------------\n",
      "d                  c[d].value\n",
      "-----------------  ------------\n",
      "GRE Score          304\n",
      "TOEFL Score        103\n",
      "University Rating  5\n",
      "SOP                5\n",
      "LOR                3\n",
      "CGPA               7.92\n",
      "Research           0\n",
      "-------------------------------\n",
      "Outcome: 1.0\n",
      "-------------------------------\n",
      "\n",
      "Number of landmarks for outcome 0: 23\n",
      "Number of landmarks for outcome 1: 67\n",
      "\n",
      "Number of ordinary (aka trivial) cases for either class:\n",
      "For outcome 0: 39 - 23 = 16\n",
      "For outcome 1: 461 - 67 = 394\n"
     ]
    },
    {
     "name": "stderr",
     "output_type": "stream",
     "text": [
      "\n"
     ]
    }
   ],
   "source": [
    "from CBR.casebase import *\n",
    "# from sympy import *\n",
    "# from sympy.logic.boolalg import to_cnf\n",
    "\n",
    "small_sets = False\n",
    "\n",
    "csvs = [\n",
    "    # \"data/mushrooms.csv\",\n",
    "    \"data/admission.csv\",\n",
    "    # \"data/tort.csv\",\n",
    "    # \"data/welfare.csv\",\n",
    "]\n",
    "csv = csvs[0]\n",
    "\n",
    "# Load the case base with logistic regression orders.\n",
    "CB = casebase(\n",
    "    csv,\n",
    "    verb=True,\n",
    "    method='logreg',\n",
    "    size=300 if small_sets else -1,\n",
    "    replace=False,\n",
    "    # manords={'patient_type' : {('out', 'in')}},\n",
    "    )\n",
    "\n",
    "CB.analyze()"
   ]
  },
  {
   "cell_type": "code",
   "execution_count": 6,
   "metadata": {},
   "outputs": [
    {
     "name": "stdout",
     "output_type": "stream",
     "text": [
      "Dimension                                 a   R   b                  F\n",
      "------------------------  -----------------  ---  ----------------  ---\n",
      "cap-shape                    coord: knobbed   <   coord: bell\n",
      "cap-surface                    coord: scaly   =   coord: scaly\n",
      "cap-color                        coord: red   <   coord: white\n",
      "bruises                           coord: no   <   coord: bruises\n",
      "odor                           coord: fishy   >   coord: anise       X\n",
      "gill-attachment                 coord: free   =   coord: free\n",
      "gill-spacing                   coord: close   =   coord: close\n",
      "gill-size                     coord: narrow   >   coord: broad       X\n",
      "gill-color                      coord: buff   >   coord: white       X\n",
      "stalk-shape                 coord: tapering   <   coord: enlarging\n",
      "stalk-root                   coord: missing   >   coord: club        X\n",
      "stalk-surface-above-ring      coord: smooth   =   coord: smooth\n",
      "stalk-surface-below-ring      coord: smooth   =   coord: smooth\n",
      "stalk-color-above-ring          coord: pink   >   coord: white       X\n",
      "stalk-color-below-ring          coord: pink   <   coord: white\n",
      "veil-color                     coord: white   =   coord: white\n",
      "ring-number                      coord: one   =   coord: one\n",
      "ring-type                 coord: evanescent   >   coord: pendant     X\n",
      "spore-print-color              coord: white   >   coord: black       X\n",
      "population                   coord: several   >   coord: numerous    X\n",
      "habitat                       coord: leaves   <   coord: grasses\n",
      "Label                                     1       0\n"
     ]
    }
   ],
   "source": [
    "CB.compare(CB[0], CB[1])\n"
   ]
  },
  {
   "cell_type": "code",
   "execution_count": 2,
   "metadata": {},
   "outputs": [
    {
     "name": "stdout",
     "output_type": "stream",
     "text": [
      "Dimension                          a   R   b            F\n",
      "------------------------  ----------  ---  ----------  ---\n",
      "cap-shape                     convex   <   knobbed\n",
      "cap-surface                    scaly   =   scaly\n",
      "cap-color                      brown   =   brown\n",
      "bruises                           no   =   no\n",
      "odor                           fishy   =   fishy\n",
      "gill-attachment                 free   =   free\n",
      "gill-spacing                   close   =   close\n",
      "gill-size                     narrow   =   narrow\n",
      "gill-color                      buff   =   buff\n",
      "stalk-shape                 tapering   =   tapering\n",
      "stalk-root                   missing   =   missing\n",
      "stalk-surface-above-ring      smooth   <   silky\n",
      "stalk-surface-below-ring       silky   =   silky\n",
      "stalk-color-above-ring          pink   =   pink\n",
      "stalk-color-below-ring         white   =   white\n",
      "veil-color                     white   =   white\n",
      "ring-number                      one   =   one\n",
      "ring-type                 evanescent   =   evanescent\n",
      "spore-print-color              white   =   white\n",
      "population                   several   =   several\n",
      "habitat                       leaves   <   paths\n",
      "Label                              1       1\n"
     ]
    }
   ],
   "source": [
    "list(CB[0].diff(CB[7]))\n",
    "\n",
    "c = CB[22]\n",
    "\n",
    "force = False\n",
    "for d in CB:\n",
    "    if not c == d:\n",
    "        if list(d.diff(c)) == []:\n",
    "            CB.compare(d, c)\n",
    "            break"
   ]
  },
  {
   "cell_type": "code",
   "execution_count": 2,
   "metadata": {},
   "outputs": [
    {
     "name": "stdout",
     "output_type": "stream",
     "text": [
      "[4, 5, 6, 7, 8, 9]\n"
     ]
    }
   ],
   "source": [
    "X = list(range(10))\n",
    "\n",
    "print(X[4:])\n",
    "CB2 = CB[:100]"
   ]
  }
 ],
 "metadata": {
  "kernelspec": {
   "display_name": "sat",
   "language": "python",
   "name": "python3"
  },
  "language_info": {
   "codemirror_mode": {
    "name": "ipython",
    "version": 3
   },
   "file_extension": ".py",
   "mimetype": "text/x-python",
   "name": "python",
   "nbconvert_exporter": "python",
   "pygments_lexer": "ipython3",
   "version": "3.9.15 | packaged by conda-forge | (main, Nov 22 2022, 08:48:25) \n[Clang 14.0.6 ]"
  },
  "orig_nbformat": 4,
  "vscode": {
   "interpreter": {
    "hash": "068e3009dfa64c1a6fa42da4ad82f467b0844a8a0e6fa977c7f6dfa35a691984"
   }
  }
 },
 "nbformat": 4,
 "nbformat_minor": 2
}
